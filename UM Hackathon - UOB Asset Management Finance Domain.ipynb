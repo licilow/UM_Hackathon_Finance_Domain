{
 "cells": [
  {
   "cell_type": "code",
   "execution_count": 4,
   "id": "29eb24e9",
   "metadata": {},
   "outputs": [],
   "source": [
    "import numpy as np\n",
    "import pandas as pd\n",
    "import os\n",
    "\n",
    "import seaborn as sns #visualisation\n",
    "import matplotlib.pyplot as plt #visualisation\n",
    "%matplotlib inline \n",
    "sns.set(color_codes=True)\n",
    "\n",
    "from datetime import datetime\n",
    "from dateutil.relativedelta import relativedelta\n",
    "\n",
    "# Import the model we are using\n",
    "from sklearn.ensemble import RandomForestRegressor\n",
    "from sklearn.linear_model import LinearRegression\n",
    "from sklearn.model_selection import GridSearchCV\n",
    "from sklearn.metrics import r2_score"
   ]
  },
  {
   "cell_type": "code",
   "execution_count": 5,
   "id": "628a2cdf",
   "metadata": {},
   "outputs": [
    {
     "name": "stdout",
     "output_type": "stream",
     "text": [
      "201907\n",
      "BPAMERP20190731.csv\n",
      "(2085, 20)\n",
      "(2085, 20)\n",
      "\n",
      "201908\n",
      "BPAMERP20190830.csv\n",
      "(2094, 20)\n",
      "(4179, 20)\n",
      "\n",
      "201909\n",
      "BPAMERP20190930.csv\n",
      "(2099, 20)\n",
      "(6278, 20)\n",
      "\n",
      "201910\n",
      "BPAMERP20191031.csv\n",
      "(2126, 20)\n",
      "(8404, 20)\n",
      "\n",
      "201911\n",
      "BPAMERP20191129.csv\n",
      "(2131, 20)\n",
      "(10535, 20)\n",
      "\n",
      "201912\n",
      "BPAMERP20191231.csv\n",
      "(2147, 20)\n",
      "(12682, 20)\n",
      "\n",
      "202001\n",
      "BPAMERP20200131.csv\n",
      "(2139, 20)\n",
      "(14821, 20)\n",
      "\n",
      "202002\n",
      "BPAMERP20200228.csv\n",
      "(2152, 20)\n",
      "(16973, 20)\n",
      "\n",
      "202003\n",
      "BPAMERP20200331.csv\n",
      "(2152, 20)\n",
      "(19125, 20)\n",
      "\n",
      "202004\n",
      "BPAMERP20200430.csv\n",
      "(2145, 20)\n",
      "(21270, 20)\n",
      "\n",
      "202005\n",
      "BPAMERP20200529.csv\n",
      "(2133, 20)\n",
      "(23403, 20)\n",
      "\n",
      "202006\n",
      "BPAMERP20200630.csv\n",
      "(2136, 20)\n",
      "(25539, 20)\n",
      "\n",
      "202007\n",
      "BPAMERP20200730.csv\n",
      "(2154, 20)\n",
      "(27693, 20)\n",
      "\n",
      "202008\n",
      "BPAMERP20200828.csv\n",
      "(2145, 20)\n",
      "(29838, 20)\n",
      "\n",
      "202009\n",
      "BPAMERP20200930.csv\n",
      "(2159, 20)\n",
      "(31997, 20)\n",
      "\n",
      "202010\n",
      "BPAMERP20201030.csv\n",
      "(2209, 20)\n",
      "(34206, 20)\n",
      "\n"
     ]
    }
   ],
   "source": [
    "merp_df = pd.DataFrame()\n",
    "\n",
    "path = 'C:\\\\Users\\\\richi\\\\OneDrive\\\\Documents\\\\2021_UM_Hackathon\\\\BPAM Evaluated Prices Rated Range Prices (LT)'\n",
    "for month in os.listdir(path):\n",
    "    print(month)\n",
    "    subpath = path+os.sep+month\n",
    "    for files in os.listdir(subpath):\n",
    "        if \"MERP\" in files:\n",
    "            print(files) \n",
    "            data = pd.read_csv(subpath+os.sep+files)\n",
    "            data['Year_Month'] = month\n",
    "            print(data.shape)\n",
    "            \n",
    "            merp_df = merp_df.append(data,ignore_index=True)\n",
    "            print(merp_df.shape)\n",
    "            print(\"\")"
   ]
  },
  {
   "cell_type": "code",
   "execution_count": 6,
   "id": "3ab3b822",
   "metadata": {},
   "outputs": [
    {
     "name": "stdout",
     "output_type": "stream",
     "text": [
      "201907\n",
      "BPAMERS20190731.csv\n",
      "(2085, 34)\n",
      "(2085, 34)\n",
      "\n",
      "201908\n",
      "BPAMERS20190830.csv\n",
      "(2094, 34)\n",
      "(4179, 34)\n",
      "\n",
      "201909\n",
      "BPAMERS20190930.csv\n",
      "(2099, 34)\n",
      "(6278, 34)\n",
      "\n",
      "201910\n",
      "BPAMERS20191031.csv\n",
      "(2126, 34)\n",
      "(8404, 34)\n",
      "\n",
      "201911\n",
      "BPAMERS20191129.csv\n",
      "(2131, 34)\n",
      "(10535, 34)\n",
      "\n",
      "201912\n",
      "BPAMERS20191231.csv\n",
      "(2147, 34)\n",
      "(12682, 34)\n",
      "\n",
      "202001\n",
      "BPAMERS20200131.csv\n",
      "(2139, 34)\n",
      "(14821, 34)\n",
      "\n",
      "202002\n",
      "BPAMERS20200228.csv\n",
      "(2152, 34)\n",
      "(16973, 34)\n",
      "\n",
      "202003\n",
      "BPAMERS20200331.csv\n",
      "(2152, 34)\n",
      "(19125, 34)\n",
      "\n",
      "202004\n",
      "BPAMERS20200430.csv\n",
      "(2145, 34)\n",
      "(21270, 34)\n",
      "\n",
      "202005\n",
      "BPAMERS20200529.csv\n",
      "(2133, 34)\n",
      "(23403, 34)\n",
      "\n",
      "202006\n",
      "BPAMERS20200630.csv\n",
      "(2136, 34)\n",
      "(25539, 34)\n",
      "\n",
      "202007\n",
      "BPAMERS20200730.csv\n",
      "(2154, 34)\n",
      "(27693, 34)\n",
      "\n",
      "202008\n",
      "BPAMERS20200828.csv\n",
      "(2145, 34)\n",
      "(29838, 34)\n",
      "\n",
      "202009\n",
      "BPAMERS20200930.csv\n",
      "(2159, 34)\n",
      "(31997, 34)\n",
      "\n",
      "202010\n",
      "BPAMERS20201030.csv\n",
      "(2209, 34)\n",
      "(34206, 34)\n",
      "\n"
     ]
    }
   ],
   "source": [
    "mers_df = pd.DataFrame()\n",
    "\n",
    "path = 'C:\\\\Users\\\\richi\\\\OneDrive\\\\Documents\\\\2021_UM_Hackathon\\\\BPAM Evaluated Prices Rated Range Prices (LT)'\n",
    "for month in os.listdir(path):\n",
    "    print(month)\n",
    "    subpath = path+os.sep+month\n",
    "    for files in os.listdir(subpath):\n",
    "        if \"MERS\" in files:\n",
    "            print(files) \n",
    "            data = pd.read_csv(subpath+os.sep+files)\n",
    "            data['Year_Month'] = month\n",
    "            print(data.shape)\n",
    "            \n",
    "            mers_df = mers_df.append(data,ignore_index=True)\n",
    "            print(mers_df.shape)\n",
    "            print(\"\")"
   ]
  },
  {
   "cell_type": "code",
   "execution_count": 7,
   "id": "e782085b",
   "metadata": {},
   "outputs": [
    {
     "name": "stdout",
     "output_type": "stream",
     "text": [
      "(34206, 20)\n",
      "(34206, 34)\n",
      "(34206, 50)\n"
     ]
    }
   ],
   "source": [
    "print(merp_df.shape)\n",
    "print(mers_df.shape)\n",
    "df = merp_df.merge(mers_df,on=['STOCK CODE','Year_Month','ISIN CODE','STOCK NAME'],how='inner')\n",
    "print(df.shape)"
   ]
  },
  {
   "cell_type": "markdown",
   "id": "4e70d150",
   "metadata": {},
   "source": [
    "### Data Preparation"
   ]
  },
  {
   "cell_type": "code",
   "execution_count": 8,
   "id": "ac62b430",
   "metadata": {},
   "outputs": [],
   "source": [
    "df2 = df[df['RATING'].str.contains(\"AA\")].reset_index(drop=True)"
   ]
  },
  {
   "cell_type": "code",
   "execution_count": 9,
   "id": "e37d9cf8",
   "metadata": {
    "scrolled": true
   },
   "outputs": [],
   "source": [
    "for col in ['VALUE DATE','PREVIOUS PAYMENT DATE','ISSUE DATE','MATURITY DATE','NEXT PAYMENT DATE']:\n",
    "    df2[col] = pd.to_datetime(df2[col])"
   ]
  },
  {
   "cell_type": "code",
   "execution_count": 10,
   "id": "78540b18",
   "metadata": {},
   "outputs": [],
   "source": [
    "df2['PREVIOUS PAYMENT DATE for calculation'] = df2['PREVIOUS PAYMENT DATE'].copy()\n",
    "df2.loc[df2['PREVIOUS PAYMENT DATE for calculation'].isnull(),'PREVIOUS PAYMENT DATE for calculation']=df2.loc[df2['PREVIOUS PAYMENT DATE for calculation'].isnull()]['ISSUE DATE']"
   ]
  },
  {
   "cell_type": "code",
   "execution_count": 11,
   "id": "e04de01a",
   "metadata": {},
   "outputs": [],
   "source": [
    "df2[\"Value-Prev\"] = df2['VALUE DATE'] - df2['PREVIOUS PAYMENT DATE for calculation']\n",
    "df2[\"Value-Prev\"] = df2[\"Value-Prev\"].astype(str).str.replace(\" days\",\"\").astype(int)"
   ]
  },
  {
   "cell_type": "code",
   "execution_count": 12,
   "id": "adfea823",
   "metadata": {},
   "outputs": [],
   "source": [
    "df2.dropna(subset=['PREVIOUS PAYMENT DATE','NEXT PAYMENT DATE'],inplace=True)\n",
    "df2[\"Payment Days diff\"] = df2['NEXT PAYMENT DATE'] - df2['PREVIOUS PAYMENT DATE']\n",
    "df2[\"Payment Days diff\"] = df2[\"Payment Days diff\"].astype(str).str.replace(\" days\",\"\").astype(int)"
   ]
  },
  {
   "cell_type": "code",
   "execution_count": 13,
   "id": "019691a2",
   "metadata": {
    "scrolled": true
   },
   "outputs": [],
   "source": [
    "df2['Year'] = df2['Year_Month'].str[:4].astype(int)\n",
    "df2['Month'] = df2['Year_Month'].str[4:].astype(int)\n",
    "df2['Day'] = 1\n",
    "\n",
    "df2['Date'] = pd.to_datetime(df2[[\"Year\",\"Month\",\"Day\"]])"
   ]
  },
  {
   "cell_type": "code",
   "execution_count": 14,
   "id": "35460b92",
   "metadata": {},
   "outputs": [],
   "source": [
    "thisdict = {\n",
    "  \"ACTACT\": 1,\n",
    "  \"ACT365\": 2,\n",
    "  \"ACTBOTH\": 3\n",
    "}\n",
    "\n",
    "df2['DAY COUNT BASIS (INT)']= df2['DAY COUNT BASIS'].map(thisdict)\n",
    "df2 = df2[df2['DAY COUNT BASIS (INT)']!=3]"
   ]
  },
  {
   "cell_type": "code",
   "execution_count": 15,
   "id": "45601ea6",
   "metadata": {},
   "outputs": [],
   "source": [
    "nominal = 5000000\n",
    "\n",
    "df2[\"ACCRUED INTEREST 1\"] = nominal*(df2['NEXT COUPON RATE']/100)*(df2[\"Value-Prev\"]/df2[\"Payment Days diff\"])\n",
    "df2[\"ACCRUED INTEREST 2\"] = nominal*(df2['NEXT COUPON RATE']/100)*(df2[\"Value-Prev\"]/365)\n",
    "\n",
    "df2['ACCRUED INTEREST'] = df2[\"ACCRUED INTEREST 1\"].copy()\n",
    "df2.loc[df2['DAY COUNT BASIS (INT)']==2,'ACCRUED INTEREST'] = df2.loc[df2['DAY COUNT BASIS (INT)']==2][\"ACCRUED INTEREST 2\"]"
   ]
  },
  {
   "cell_type": "code",
   "execution_count": 16,
   "id": "2a8b0d1d",
   "metadata": {},
   "outputs": [],
   "source": [
    "df2[\"TERM OF MATURITY\"]= (df2['MATURITY DATE'] - df2['VALUE DATE'])\n",
    "df2[\"TERM OF MATURITY\"] = df2[\"TERM OF MATURITY\"].astype(str).str.replace(\" days\",\"\").astype(int)\n",
    "df2[\"TERM OF MATURITY\"] = df2[\"TERM OF MATURITY\"]/365"
   ]
  },
  {
   "cell_type": "code",
   "execution_count": 17,
   "id": "851b768b",
   "metadata": {
    "scrolled": true
   },
   "outputs": [
    {
     "name": "stdout",
     "output_type": "stream",
     "text": [
      "\n",
      "Previous One Month :  2019-07-01 (1386, 9)\n",
      "Future One Month :  2019-08-01 (1381, 6)\n",
      "\n",
      "Previous One Month :  2019-08-01 (1381, 9)\n",
      "Future One Month :  2019-09-01 (1388, 6)\n",
      "\n",
      "Previous One Month :  2019-09-01 (1388, 9)\n",
      "Future One Month :  2019-10-01 (1369, 6)\n",
      "\n",
      "Previous One Month :  2019-10-01 (1369, 9)\n",
      "Future One Month :  2019-11-01 (1347, 6)\n",
      "\n",
      "Previous One Month :  2019-11-01 (1347, 9)\n",
      "Future One Month :  2019-12-01 (1356, 6)\n",
      "\n",
      "Previous One Month :  2019-12-01 (1356, 9)\n",
      "Future One Month :  2020-01-01 (1372, 6)\n",
      "\n",
      "Previous One Month :  2020-01-01 (1372, 9)\n",
      "Future One Month :  2020-02-01 (1391, 6)\n",
      "\n",
      "Previous One Month :  2020-02-01 (1391, 9)\n",
      "Future One Month :  2020-03-01 (1390, 6)\n",
      "\n",
      "Previous One Month :  2020-03-01 (1390, 9)\n",
      "Future One Month :  2020-04-01 (1406, 6)\n",
      "\n",
      "Previous One Month :  2020-04-01 (1406, 9)\n",
      "Future One Month :  2020-05-01 (1417, 6)\n",
      "\n",
      "Previous One Month :  2020-05-01 (1417, 9)\n",
      "Future One Month :  2020-06-01 (1446, 6)\n",
      "\n",
      "Previous One Month :  2020-06-01 (1446, 9)\n",
      "Future One Month :  2020-07-01 (1436, 6)\n",
      "\n",
      "Previous One Month :  2020-07-01 (1436, 9)\n",
      "Future One Month :  2020-08-01 (1420, 6)\n",
      "\n",
      "Previous One Month :  2020-08-01 (1420, 9)\n",
      "Future One Month :  2020-09-01 (1420, 6)\n",
      "\n",
      "Previous One Month :  2020-09-01 (1420, 9)\n",
      "Future One Month :  2020-10-01 (1409, 6)\n",
      "\n"
     ]
    }
   ],
   "source": [
    "processed_df = pd.DataFrame()\n",
    "\n",
    "for d in df2['Date'].unique():\n",
    "    \n",
    "    d_0 = datetime.strptime(str(d).replace(\"T00:00:00.000000000\",\"\"), '%Y-%m-%d')\n",
    "    d_1 = d_0 - relativedelta(months=1) \n",
    "    \n",
    "    data_1 = df2[df2['Date'] == d_1][['STOCK CODE','ISIN CODE','STOCK NAME','EVAL MID YIELD','EVAL MID PRICE','ACCRUED INTEREST',\"TERM OF MATURITY\",'MODIFIED DURATION','Date']]\n",
    "    data_0 = df2[df2['Date'] == d_0][['STOCK CODE','ISIN CODE','STOCK NAME','EVAL MID PRICE','EVAL MID YIELD CHANGE','CONVEXITY']].rename(columns={'EVAL MID PRICE':'EVAL MID PRICE M1',\n",
    "                                                                                                                                      'EVAL MID YIELD CHANGE':'EVAL MID YIELD CHANGE M1',\n",
    "                                                                                                                                                  'CONVEXITY':'CONVEXITY M1'})\n",
    "    \n",
    "    if not data_1.empty:\n",
    "        print(\"Previous One Month : \",str(d_1).replace(\" 00:00:00\",\"\"),data_1.shape)\n",
    "        print(\"Future One Month : \",str(d_0).replace(\" 00:00:00\",\"\"),data_0.shape)\n",
    "        \n",
    "        data = data_1.merge(data_0,on=['STOCK CODE','ISIN CODE','STOCK NAME'])\n",
    "        \n",
    "        processed_df = processed_df.append(data,ignore_index=True)\n",
    "    \n",
    "    print(\"\")"
   ]
  },
  {
   "cell_type": "code",
   "execution_count": 18,
   "id": "9701e7d1",
   "metadata": {},
   "outputs": [],
   "source": [
    "processed_df.dropna(subset=['EVAL MID YIELD',\n",
    "       'EVAL MID PRICE', 'ACCRUED INTEREST', 'TERM OF MATURITY',\n",
    "       'MODIFIED DURATION', 'Date', 'EVAL MID PRICE M1'],how='any',inplace=True)"
   ]
  },
  {
   "cell_type": "code",
   "execution_count": 19,
   "id": "7e44e6cb",
   "metadata": {},
   "outputs": [],
   "source": [
    "no_sep_oct =processed_df[~processed_df['Date'].between('2020-09-01', '2020-10-01')]\n",
    "sep_oct= processed_df[processed_df['Date'].between('2020-09-01','2020-10-01')]"
   ]
  },
  {
   "cell_type": "markdown",
   "id": "9d3f39a5",
   "metadata": {},
   "source": [
    "### Define Features and Label"
   ]
  },
  {
   "cell_type": "code",
   "execution_count": 20,
   "id": "f12e2723",
   "metadata": {},
   "outputs": [],
   "source": [
    "X_col = ['EVAL MID YIELD','EVAL MID PRICE','ACCRUED INTEREST',\"TERM OF MATURITY\",'MODIFIED DURATION']\n",
    "y_col = 'EVAL MID PRICE M1'\n",
    "X = no_sep_oct[X_col]\n",
    "y = no_sep_oct[y_col]"
   ]
  },
  {
   "cell_type": "markdown",
   "id": "e14f6213",
   "metadata": {},
   "source": [
    "#### Train set, Test set, Validation set"
   ]
  },
  {
   "cell_type": "code",
   "execution_count": 21,
   "id": "428177fe",
   "metadata": {},
   "outputs": [],
   "source": [
    "# Using Skicit-learn to split data into training and testing sets\n",
    "from sklearn.model_selection import train_test_split\n",
    "\n",
    "# Split the data into training and testing sets\n",
    "train_X, test_X, train_y, test_y = train_test_split(X, y, test_size = 0.25, random_state = 42)"
   ]
  },
  {
   "cell_type": "code",
   "execution_count": 22,
   "id": "2e07a1e8",
   "metadata": {},
   "outputs": [
    {
     "name": "stdout",
     "output_type": "stream",
     "text": [
      "Training X Shape: (14461, 5)\n",
      "Training y Shape: (4821, 5)\n",
      "Testing X Shape: (14461,)\n",
      "Testing y Shape: (4821,)\n"
     ]
    }
   ],
   "source": [
    "print('Training X Shape:', train_X.shape)\n",
    "print('Training y Shape:', test_X.shape)\n",
    "print('Testing X Shape:', train_y.shape)\n",
    "print('Testing y Shape:', test_y.shape)"
   ]
  },
  {
   "cell_type": "markdown",
   "id": "38ac3e33",
   "metadata": {},
   "source": [
    "#### Non parameteric model - Random Forest"
   ]
  },
  {
   "cell_type": "code",
   "execution_count": 45,
   "id": "1c944c18",
   "metadata": {},
   "outputs": [
    {
     "name": "stdout",
     "output_type": "stream",
     "text": [
      "Random Forest: \n",
      "\n",
      "Mean Absolute Error Test: 0.8\n",
      "Mean Absolute Error Sep, Oct: 0.45\n",
      "\n",
      "Accuracy test: 99.27 %.\n",
      "Accuracy Sep,Oct: 99.6 %.\n",
      "\n",
      "coefficient of determination: 0.94\n",
      "coefficient of determination Sep,Oct: 0.98\n"
     ]
    }
   ],
   "source": [
    "### Grid Search to tune hyperparameter for random forest\n",
    "param_grid = {\n",
    "    'n_estimators' : [50,60,65,70,75,80,85,90,100],\n",
    "    'max_depth' : [5,6,7,8,9,10,11,12]\n",
    "}\n",
    "\n",
    "### Grid Search\n",
    "RF=GridSearchCV(RandomForestRegressor(random_state=10), param_grid, cv=2,n_jobs=3)\n",
    "RF.fit(train_X, train_y)\n",
    "\n",
    "best_params=RF.best_params_\n",
    "        \n",
    "max_depth=best_params[\"max_depth\"]\n",
    "n_estimators=best_params[\"n_estimators\"]\n",
    "        \n",
    "rf=RandomForestRegressor(random_state=10,n_estimators=n_estimators,max_depth=max_depth)\n",
    "rf.fit(train_X, train_y)\n",
    "\n",
    "# Use the forest's predict method on the test data\n",
    "predictions = rf.predict(test_X)\n",
    "newpred= rf.predict(sep_oct[X_col])\n",
    "\n",
    "# Calculate the absolute errors\n",
    "errors = abs(predictions - test_y)\n",
    "newerrors = abs(newpred - sep_oct[y_col])\n",
    "\n",
    "print(\"Random Forest: \")\n",
    "print(\"\")\n",
    "\n",
    "# Print out the mean absolute error (mae)\n",
    "print('Mean Absolute Error Test:', round(np.mean(errors), 2))\n",
    "print('Mean Absolute Error Sep, Oct:', round(np.mean(newerrors), 2))\n",
    "print(\"\")\n",
    "\n",
    "# Calculate mean absolute percentage error (MAPE)\n",
    "mape = 100 * (errors / test_y)\n",
    "newmape = 100 * (newerrors / sep_oct[y_col])\n",
    "\n",
    "# Calculate and display accuracy\n",
    "accuracy = 100 - np.mean(mape)\n",
    "accuracy_Sep_oct = 100 - np.mean(newmape)\n",
    "print('Accuracy test:', round(accuracy, 2), '%.')\n",
    "print('Accuracy Sep,Oct:', round(accuracy_Sep_oct, 2), '%.')\n",
    "print(\"\")\n",
    "\n",
    "r_sq = r2_score(test_y, predictions)\n",
    "r_sq2 = r2_score(sep_oct[y_col], newpred)\n",
    "print('coefficient of determination:', np.round(r_sq,2))\n",
    "print('coefficient of determination Sep,Oct:', np.round(r_sq2,2))"
   ]
  },
  {
   "cell_type": "markdown",
   "id": "7f8a9da1",
   "metadata": {},
   "source": [
    "#### Parameteric model - Multi Linear Regression"
   ]
  },
  {
   "cell_type": "code",
   "execution_count": 48,
   "id": "8e168e68",
   "metadata": {},
   "outputs": [
    {
     "name": "stdout",
     "output_type": "stream",
     "text": [
      "Linear Regression: \n",
      "\n",
      "Mean Absolute Error: 0.86\n",
      "Mean Absolute Error Sep, Oct: 0.39\n",
      "\n",
      "Accuracy: 99.21 %.\n",
      "Accuracy Sep,Oct: 99.65 %.\n",
      "\n",
      "coefficient of determination: 0.93\n",
      "coefficient of determination Sep,Oct: 0.99\n"
     ]
    }
   ],
   "source": [
    "model = LinearRegression()\n",
    "\n",
    "model.fit(train_X, train_y)\n",
    "\n",
    "predictions = model.predict(test_X)\n",
    "newpred= model.predict(sep_oct[X_col])\n",
    "\n",
    "# Calculate the absolute errors\n",
    "errors = abs(predictions - test_y)\n",
    "newerrors = abs(newpred - sep_oct[y_col])\n",
    "\n",
    "print(\"Linear Regression: \")\n",
    "print(\"\")\n",
    "\n",
    "# Print out the mean absolute error (mae)\n",
    "print('Mean Absolute Error:', round(np.mean(errors), 2))\n",
    "print('Mean Absolute Error Sep, Oct:', round(np.mean(newerrors), 2))\n",
    "print(\"\")\n",
    "\n",
    "# Calculate mean absolute percentage error (MAPE)\n",
    "mape = 100 * (errors / test_y)\n",
    "newmape = 100 * (newerrors / sep_oct[y_col])\n",
    "\n",
    "# Calculate and display accuracy\n",
    "accuracy = 100 - np.mean(mape)\n",
    "accuracy_Sep_oct = 100 - np.mean(newmape)\n",
    "print('Accuracy:', round(accuracy, 2), '%.')\n",
    "print('Accuracy Sep,Oct:', round(accuracy_Sep_oct, 2), '%.')\n",
    "print(\"\")\n",
    "\n",
    "r_sq = r2_score(test_y, predictions)\n",
    "r_sq2 = r2_score(sep_oct[y_col], newpred)\n",
    "print('coefficient of determination:', np.round(r_sq,2))\n",
    "print('coefficient of determination Sep,Oct:', np.round(r_sq2,2))"
   ]
  },
  {
   "cell_type": "code",
   "execution_count": 46,
   "id": "d4719d0a",
   "metadata": {
    "scrolled": false
   },
   "outputs": [
    {
     "name": "stderr",
     "output_type": "stream",
     "text": [
      "<ipython-input-46-50edc44a5942>:1: SettingWithCopyWarning: \n",
      "A value is trying to be set on a copy of a slice from a DataFrame.\n",
      "Try using .loc[row_indexer,col_indexer] = value instead\n",
      "\n",
      "See the caveats in the documentation: https://pandas.pydata.org/pandas-docs/stable/user_guide/indexing.html#returning-a-view-versus-a-copy\n",
      "  sep_oct['EVAL MID PRICE PREDICTION M1']= model.predict(sep_oct[X_col])\n"
     ]
    },
    {
     "data": {
      "text/html": [
       "<div>\n",
       "<style scoped>\n",
       "    .dataframe tbody tr th:only-of-type {\n",
       "        vertical-align: middle;\n",
       "    }\n",
       "\n",
       "    .dataframe tbody tr th {\n",
       "        vertical-align: top;\n",
       "    }\n",
       "\n",
       "    .dataframe thead th {\n",
       "        text-align: right;\n",
       "    }\n",
       "</style>\n",
       "<table border=\"1\" class=\"dataframe\">\n",
       "  <thead>\n",
       "    <tr style=\"text-align: right;\">\n",
       "      <th></th>\n",
       "      <th>STOCK CODE</th>\n",
       "      <th>ISIN CODE</th>\n",
       "      <th>STOCK NAME</th>\n",
       "      <th>EVAL MID PRICE</th>\n",
       "      <th>EVAL MID PRICE PREDICTION M1</th>\n",
       "      <th>EVAL MID PRICE M1</th>\n",
       "    </tr>\n",
       "  </thead>\n",
       "  <tbody>\n",
       "    <tr>\n",
       "      <th>19282</th>\n",
       "      <td>DZ012851</td>\n",
       "      <td>MYBDZ0128511</td>\n",
       "      <td>TENAGA IBONDS 0.00000% 13.12.2021</td>\n",
       "      <td>105.784</td>\n",
       "      <td>105.136686</td>\n",
       "      <td>105.499</td>\n",
       "    </tr>\n",
       "    <tr>\n",
       "      <th>19283</th>\n",
       "      <td>DZ021250</td>\n",
       "      <td>MYBDZ0212505</td>\n",
       "      <td>GDC PUTRA 0.00000% 02.12.2022</td>\n",
       "      <td>110.094</td>\n",
       "      <td>109.450615</td>\n",
       "      <td>109.892</td>\n",
       "    </tr>\n",
       "    <tr>\n",
       "      <th>19284</th>\n",
       "      <td>VQ080767</td>\n",
       "      <td>MYBVQ0807677</td>\n",
       "      <td>JEV IMTN 0% 12.11.2020</td>\n",
       "      <td>100.776</td>\n",
       "      <td>100.766402</td>\n",
       "      <td>100.187</td>\n",
       "    </tr>\n",
       "    <tr>\n",
       "      <th>19285</th>\n",
       "      <td>VR061774</td>\n",
       "      <td>MYBVR0617744</td>\n",
       "      <td>JEV IMTN 0% 12.11.2020</td>\n",
       "      <td>100.747</td>\n",
       "      <td>100.730090</td>\n",
       "      <td>100.181</td>\n",
       "    </tr>\n",
       "    <tr>\n",
       "      <th>19286</th>\n",
       "      <td>VS060699</td>\n",
       "      <td>MYBVS0606992</td>\n",
       "      <td>JEV IMTN 0% 12.11.2020</td>\n",
       "      <td>100.731</td>\n",
       "      <td>100.709596</td>\n",
       "      <td>100.177</td>\n",
       "    </tr>\n",
       "    <tr>\n",
       "      <th>...</th>\n",
       "      <td>...</td>\n",
       "      <td>...</td>\n",
       "      <td>...</td>\n",
       "      <td>...</td>\n",
       "      <td>...</td>\n",
       "      <td>...</td>\n",
       "    </tr>\n",
       "    <tr>\n",
       "      <th>20681</th>\n",
       "      <td>PK200003</td>\n",
       "      <td>MYBPK2000037</td>\n",
       "      <td>AEON CREDIT SENIOR SUKUK (SERIES 1 TRANCHE 1)</td>\n",
       "      <td>102.676</td>\n",
       "      <td>103.170374</td>\n",
       "      <td>102.819</td>\n",
       "    </tr>\n",
       "    <tr>\n",
       "      <th>20682</th>\n",
       "      <td>PL200002</td>\n",
       "      <td>MYBPL2000027</td>\n",
       "      <td>AEON CREDIT SENIOR SUKUK (SERIES 1 TRANCHE 2)</td>\n",
       "      <td>102.891</td>\n",
       "      <td>103.491778</td>\n",
       "      <td>103.075</td>\n",
       "    </tr>\n",
       "    <tr>\n",
       "      <th>20683</th>\n",
       "      <td>PZ200004</td>\n",
       "      <td>MYBPZ2000043</td>\n",
       "      <td>TG EXCELLENCE SUKUK WAKALAH (TRANCHE 1)</td>\n",
       "      <td>103.810</td>\n",
       "      <td>103.943683</td>\n",
       "      <td>103.680</td>\n",
       "    </tr>\n",
       "    <tr>\n",
       "      <th>20684</th>\n",
       "      <td>VH200018</td>\n",
       "      <td>MYBVH2000189</td>\n",
       "      <td>EXSIM VEN IMTN 4.700% 28.08.2023</td>\n",
       "      <td>101.523</td>\n",
       "      <td>101.928715</td>\n",
       "      <td>101.508</td>\n",
       "    </tr>\n",
       "    <tr>\n",
       "      <th>20685</th>\n",
       "      <td>VE200160</td>\n",
       "      <td>MYBVE2001606</td>\n",
       "      <td>GMD IMTN 4.430% 09.03.2021</td>\n",
       "      <td>100.921</td>\n",
       "      <td>100.502709</td>\n",
       "      <td>100.782</td>\n",
       "    </tr>\n",
       "  </tbody>\n",
       "</table>\n",
       "<p>1404 rows × 6 columns</p>\n",
       "</div>"
      ],
      "text/plain": [
       "      STOCK CODE     ISIN CODE                                     STOCK NAME  \\\n",
       "19282   DZ012851  MYBDZ0128511              TENAGA IBONDS 0.00000% 13.12.2021   \n",
       "19283   DZ021250  MYBDZ0212505                  GDC PUTRA 0.00000% 02.12.2022   \n",
       "19284   VQ080767  MYBVQ0807677                         JEV IMTN 0% 12.11.2020   \n",
       "19285   VR061774  MYBVR0617744                         JEV IMTN 0% 12.11.2020   \n",
       "19286   VS060699  MYBVS0606992                         JEV IMTN 0% 12.11.2020   \n",
       "...          ...           ...                                            ...   \n",
       "20681   PK200003  MYBPK2000037  AEON CREDIT SENIOR SUKUK (SERIES 1 TRANCHE 1)   \n",
       "20682   PL200002  MYBPL2000027  AEON CREDIT SENIOR SUKUK (SERIES 1 TRANCHE 2)   \n",
       "20683   PZ200004  MYBPZ2000043        TG EXCELLENCE SUKUK WAKALAH (TRANCHE 1)   \n",
       "20684   VH200018  MYBVH2000189               EXSIM VEN IMTN 4.700% 28.08.2023   \n",
       "20685   VE200160  MYBVE2001606                     GMD IMTN 4.430% 09.03.2021   \n",
       "\n",
       "       EVAL MID PRICE  EVAL MID PRICE PREDICTION M1  EVAL MID PRICE M1  \n",
       "19282         105.784                    105.136686            105.499  \n",
       "19283         110.094                    109.450615            109.892  \n",
       "19284         100.776                    100.766402            100.187  \n",
       "19285         100.747                    100.730090            100.181  \n",
       "19286         100.731                    100.709596            100.177  \n",
       "...               ...                           ...                ...  \n",
       "20681         102.676                    103.170374            102.819  \n",
       "20682         102.891                    103.491778            103.075  \n",
       "20683         103.810                    103.943683            103.680  \n",
       "20684         101.523                    101.928715            101.508  \n",
       "20685         100.921                    100.502709            100.782  \n",
       "\n",
       "[1404 rows x 6 columns]"
      ]
     },
     "execution_count": 46,
     "metadata": {},
     "output_type": "execute_result"
    }
   ],
   "source": [
    "sep_oct['EVAL MID PRICE PREDICTION M1']= model.predict(sep_oct[X_col])\n",
    "sep_oct[['STOCK CODE','ISIN CODE','STOCK NAME','EVAL MID PRICE','EVAL MID PRICE PREDICTION M1','EVAL MID PRICE M1']]"
   ]
  },
  {
   "cell_type": "markdown",
   "id": "546bfcc3",
   "metadata": {},
   "source": [
    "### Post Model Feature Analysis"
   ]
  },
  {
   "cell_type": "code",
   "execution_count": 25,
   "id": "f930d133",
   "metadata": {},
   "outputs": [
    {
     "data": {
      "image/png": "[encoded data removed]",
      "text/plain": [
       "<Figure size 504x360 with 2 Axes>"
      ]
     },
     "metadata": {},
     "output_type": "display_data"
    }
   ],
   "source": [
    "# Finding the relations between the variables.\n",
    "plt.figure(figsize=(7,5))\n",
    "c= processed_df[X_col+[y_col]].corr()\n",
    "sns.heatmap(c,cmap=\"BrBG\",annot=True)\n",
    "plt.show()"
   ]
  },
  {
   "cell_type": "markdown",
   "id": "7980924a",
   "metadata": {},
   "source": [
    "### Stage 1 : Bond Price Prediction\n",
    "#### Bond Prediction for Value Date = 2020-11-02"
   ]
  },
  {
   "cell_type": "code",
   "execution_count": 26,
   "id": "971eba3a",
   "metadata": {
    "scrolled": true
   },
   "outputs": [
    {
     "name": "stdout",
     "output_type": "stream",
     "text": [
      "(1648, 2)\n",
      "(1648, 3)\n"
     ]
    }
   ],
   "source": [
    "bond_price_beg_end = df2.groupby(['STOCK CODE']).agg({\"Date\":\"min\"}).reset_index()\n",
    "bond_price_beg_end.rename(columns={\"Date\":\"DATE BEG\"},inplace=True)\n",
    "\n",
    "print(bond_price_beg_end.shape)\n",
    "bond_price_beg_end = bond_price_beg_end.merge(df2[['STOCK CODE','Date','EVAL MID PRICE']].rename(columns={\"Date\":\"DATE BEG\",\n",
    "                                                                                                         \"EVAL MID PRICE\":\"EVAL MID PRICE BEG\"}),on=[\"STOCK CODE\",\"DATE BEG\"])\n",
    "print(bond_price_beg_end.shape)"
   ]
  },
  {
   "cell_type": "code",
   "execution_count": 27,
   "id": "01ba0a72",
   "metadata": {
    "scrolled": true
   },
   "outputs": [
    {
     "name": "stdout",
     "output_type": "stream",
     "text": [
      "(1409, 16)\n",
      "(1409, 18)\n"
     ]
    }
   ],
   "source": [
    "BondReturn_Col = ['COUPON FREQUENCY','REMAINING TENURE','EVAL MID YIELD CHANGE','CONVEXITY']\n",
    "\n",
    "nov_forecast = df2[df2['VALUE DATE']==\"2020-11-02\"].reset_index(drop=True)\n",
    "nov_forecast = nov_forecast[['STOCK CODE','ISIN CODE','STOCK NAME','VALUE DATE']+X_col+BondReturn_Col]\n",
    "\n",
    "nov_forecast['REMAINING TENURE M/Y'] = nov_forecast['REMAINING TENURE'].apply(lambda x: x[-1] if x[-1]!=\"+\" else x[-2:])\n",
    "nov_forecast['REMAINING TENURE Integer'] = nov_forecast['REMAINING TENURE'].apply(lambda x: x[:-1] if x[-1]!=\"+\" else x[:-2]).astype(int)\n",
    "nov_forecast['MD'] = nov_forecast[['REMAINING TENURE M/Y','REMAINING TENURE Integer']].apply(lambda x:x[1] if x[0]=='M' else x[1]*12,axis=1)\n",
    "\n",
    "print(nov_forecast.shape)\n",
    "nov_forecast = nov_forecast.merge(bond_price_beg_end,on=['STOCK CODE'])\n",
    "print(nov_forecast.shape)"
   ]
  },
  {
   "cell_type": "markdown",
   "id": "bffda8b2",
   "metadata": {},
   "source": [
    "### Stage 2 : Calculate Bond Return and Volatility\n",
    "##### To calculate Bond Return based on Nov'20 Bond Price Prediction"
   ]
  },
  {
   "cell_type": "code",
   "execution_count": 28,
   "id": "a927e36d",
   "metadata": {
    "scrolled": true
   },
   "outputs": [],
   "source": [
    "nov_forecast['NOV20 BOND PRICE'] = model.predict(nov_forecast[X_col])\n",
    "nov_forecast['NOV20 YIELD INCOME'] = nov_forecast['NOV20 BOND PRICE']/nov_forecast['COUPON FREQUENCY']\n",
    "nov_forecast['NOV20 ROLL DOWN RETURN'] = (nov_forecast['NOV20 BOND PRICE'] - nov_forecast['EVAL MID PRICE BEG'])/nov_forecast['EVAL MID PRICE BEG']\n",
    "nov_forecast['OCT20 EXPECTED CHG IN YIELD'] = (-nov_forecast['MD']*nov_forecast['EVAL MID YIELD CHANGE'])+(0.5*nov_forecast['CONVEXITY']*nov_forecast['EVAL MID YIELD CHANGE']*nov_forecast['EVAL MID YIELD CHANGE'])\n",
    "\n",
    "nov_forecast['NOV20 BOND RETURN'] = nov_forecast[['NOV20 YIELD INCOME','NOV20 ROLL DOWN RETURN','OCT20 EXPECTED CHG IN YIELD']].sum(1)"
   ]
  },
  {
   "cell_type": "markdown",
   "id": "5c4d5dca",
   "metadata": {},
   "source": [
    "##### To calculate Volatility, calculate standard deviation of each bond"
   ]
  },
  {
   "cell_type": "code",
   "execution_count": 40,
   "id": "435e3677",
   "metadata": {},
   "outputs": [
    {
     "name": "stderr",
     "output_type": "stream",
     "text": [
      "<ipython-input-40-6d28a8fa0a92>:2: SettingWithCopyWarning: \n",
      "A value is trying to be set on a copy of a slice from a DataFrame.\n",
      "Try using .loc[row_indexer,col_indexer] = value instead\n",
      "\n",
      "See the caveats in the documentation: https://pandas.pydata.org/pandas-docs/stable/user_guide/indexing.html#returning-a-view-versus-a-copy\n",
      "  df_nov['Date'] = pd.to_datetime(\"2020-11-01\")\n",
      "C:\\ProgramData\\Anaconda3\\lib\\site-packages\\pandas\\core\\frame.py:4441: SettingWithCopyWarning: \n",
      "A value is trying to be set on a copy of a slice from a DataFrame\n",
      "\n",
      "See the caveats in the documentation: https://pandas.pydata.org/pandas-docs/stable/user_guide/indexing.html#returning-a-view-versus-a-copy\n",
      "  return super().rename(\n"
     ]
    }
   ],
   "source": [
    "df_nov = nov_forecast[['STOCK CODE','NOV20 BOND PRICE']]\n",
    "df_nov['Date'] = pd.to_datetime(\"2020-11-01\")\n",
    "df_nov.rename(columns={\"NOV20 BOND PRICE\":\"EVAL MID PRICE\"},inplace=True)\n",
    "\n",
    "vol_df = df2[['STOCK CODE','Date','EVAL MID PRICE']].reset_index(drop=True)\n",
    "vol_df = vol_df.append(df_nov[['STOCK CODE','Date','EVAL MID PRICE']].reset_index(drop=True),ignore_index=True)\n",
    "\n",
    "vol_df = vol_df.groupby(['STOCK CODE']).agg({\"EVAL MID PRICE\":np.nanstd}).reset_index()\n",
    "vol_df.rename(columns={\"EVAL MID PRICE\":\"EVAL MID PRICE STD DEV\"},inplace=True)"
   ]
  },
  {
   "cell_type": "code",
   "execution_count": 30,
   "id": "d57c6940",
   "metadata": {},
   "outputs": [
    {
     "name": "stdout",
     "output_type": "stream",
     "text": [
      "(1409, 23)\n",
      "(1409, 24)\n"
     ]
    }
   ],
   "source": [
    "print(nov_forecast.shape)\n",
    "nov_forecast = nov_forecast.merge(vol_df,on=['STOCK CODE'])\n",
    "print(nov_forecast.shape)"
   ]
  },
  {
   "cell_type": "code",
   "execution_count": 31,
   "id": "f7e814e2",
   "metadata": {
    "scrolled": true
   },
   "outputs": [],
   "source": [
    "nov_forecast['NOV20 BOND VOLATILITY'] = nov_forecast['EVAL MID PRICE STD DEV'] * np.sqrt(252)\n",
    "nov_forecast['NOV20 RETURN/VOLATILITY'] = nov_forecast['NOV20 BOND RETURN']/nov_forecast['NOV20 BOND VOLATILITY']"
   ]
  },
  {
   "cell_type": "code",
   "execution_count": 32,
   "id": "e975c326",
   "metadata": {
    "scrolled": true
   },
   "outputs": [
    {
     "data": {
      "text/html": [
       "<div>\n",
       "<style scoped>\n",
       "    .dataframe tbody tr th:only-of-type {\n",
       "        vertical-align: middle;\n",
       "    }\n",
       "\n",
       "    .dataframe tbody tr th {\n",
       "        vertical-align: top;\n",
       "    }\n",
       "\n",
       "    .dataframe thead th {\n",
       "        text-align: right;\n",
       "    }\n",
       "</style>\n",
       "<table border=\"1\" class=\"dataframe\">\n",
       "  <thead>\n",
       "    <tr style=\"text-align: right;\">\n",
       "      <th></th>\n",
       "      <th>NOV20 BOND RETURN</th>\n",
       "      <th>NOV20 BOND VOLATILITY</th>\n",
       "      <th>NOV20 RETURN/VOLATILITY</th>\n",
       "    </tr>\n",
       "  </thead>\n",
       "  <tbody>\n",
       "    <tr>\n",
       "      <th>count</th>\n",
       "      <td>1409.000000</td>\n",
       "      <td>1409.000000</td>\n",
       "      <td>1409.000000</td>\n",
       "    </tr>\n",
       "    <tr>\n",
       "      <th>mean</th>\n",
       "      <td>54.031853</td>\n",
       "      <td>22.913697</td>\n",
       "      <td>6.211094</td>\n",
       "    </tr>\n",
       "    <tr>\n",
       "      <th>std</th>\n",
       "      <td>4.778330</td>\n",
       "      <td>15.946499</td>\n",
       "      <td>27.470337</td>\n",
       "    </tr>\n",
       "    <tr>\n",
       "      <th>min</th>\n",
       "      <td>10.077039</td>\n",
       "      <td>0.071130</td>\n",
       "      <td>0.206477</td>\n",
       "    </tr>\n",
       "    <tr>\n",
       "      <th>25%</th>\n",
       "      <td>51.580024</td>\n",
       "      <td>8.644109</td>\n",
       "      <td>1.556097</td>\n",
       "    </tr>\n",
       "    <tr>\n",
       "      <th>50%</th>\n",
       "      <td>53.436306</td>\n",
       "      <td>20.191404</td>\n",
       "      <td>2.656698</td>\n",
       "    </tr>\n",
       "    <tr>\n",
       "      <th>75%</th>\n",
       "      <td>55.996258</td>\n",
       "      <td>36.017944</td>\n",
       "      <td>6.012023</td>\n",
       "    </tr>\n",
       "    <tr>\n",
       "      <th>max</th>\n",
       "      <td>105.929854</td>\n",
       "      <td>84.371069</td>\n",
       "      <td>724.934082</td>\n",
       "    </tr>\n",
       "  </tbody>\n",
       "</table>\n",
       "</div>"
      ],
      "text/plain": [
       "       NOV20 BOND RETURN  NOV20 BOND VOLATILITY  NOV20 RETURN/VOLATILITY\n",
       "count        1409.000000            1409.000000              1409.000000\n",
       "mean           54.031853              22.913697                 6.211094\n",
       "std             4.778330              15.946499                27.470337\n",
       "min            10.077039               0.071130                 0.206477\n",
       "25%            51.580024               8.644109                 1.556097\n",
       "50%            53.436306              20.191404                 2.656698\n",
       "75%            55.996258              36.017944                 6.012023\n",
       "max           105.929854              84.371069               724.934082"
      ]
     },
     "execution_count": 32,
     "metadata": {},
     "output_type": "execute_result"
    }
   ],
   "source": [
    "nov_forecast[['NOV20 BOND RETURN','NOV20 BOND VOLATILITY','NOV20 RETURN/VOLATILITY']].describe()"
   ]
  },
  {
   "cell_type": "markdown",
   "id": "a5f4eab7",
   "metadata": {},
   "source": [
    "### Stage 3 : Choose Top 5 Bond based on Bond Return over Bond Volatility"
   ]
  },
  {
   "cell_type": "code",
   "execution_count": 33,
   "id": "1aab764a",
   "metadata": {},
   "outputs": [
    {
     "data": {
      "text/html": [
       "<div>\n",
       "<style scoped>\n",
       "    .dataframe tbody tr th:only-of-type {\n",
       "        vertical-align: middle;\n",
       "    }\n",
       "\n",
       "    .dataframe tbody tr th {\n",
       "        vertical-align: top;\n",
       "    }\n",
       "\n",
       "    .dataframe thead th {\n",
       "        text-align: right;\n",
       "    }\n",
       "</style>\n",
       "<table border=\"1\" class=\"dataframe\">\n",
       "  <thead>\n",
       "    <tr style=\"text-align: right;\">\n",
       "      <th></th>\n",
       "      <th>STOCK CODE</th>\n",
       "      <th>ISIN CODE</th>\n",
       "      <th>STOCK NAME</th>\n",
       "      <th>VALUE DATE</th>\n",
       "      <th>NOV20 BOND PRICE</th>\n",
       "      <th>NOV20 YIELD INCOME</th>\n",
       "      <th>NOV20 ROLL DOWN RETURN</th>\n",
       "      <th>OCT20 EXPECTED CHG IN YIELD</th>\n",
       "      <th>NOV20 BOND RETURN</th>\n",
       "      <th>NOV20 BOND VOLATILITY</th>\n",
       "      <th>NOV20 RETURN/VOLATILITY</th>\n",
       "    </tr>\n",
       "  </thead>\n",
       "  <tbody>\n",
       "    <tr>\n",
       "      <th>100</th>\n",
       "      <td>UI200090</td>\n",
       "      <td>MYBUI2000908</td>\n",
       "      <td>CIMB MTN 1826D 03.4.2025 - Issue No 8</td>\n",
       "      <td>2020-11-02</td>\n",
       "      <td>103.129337</td>\n",
       "      <td>51.564668</td>\n",
       "      <td>0.000061</td>\n",
       "      <td>0.000000</td>\n",
       "      <td>51.564730</td>\n",
       "      <td>0.071130</td>\n",
       "      <td>724.934082</td>\n",
       "    </tr>\n",
       "    <tr>\n",
       "      <th>472</th>\n",
       "      <td>VE200066</td>\n",
       "      <td>MYBVE2000665</td>\n",
       "      <td>UEMS IMTN 3.70% 03.05.2021 - Issue No. 8</td>\n",
       "      <td>2020-11-02</td>\n",
       "      <td>100.196005</td>\n",
       "      <td>50.098002</td>\n",
       "      <td>-0.000070</td>\n",
       "      <td>0.006000</td>\n",
       "      <td>50.103933</td>\n",
       "      <td>0.078521</td>\n",
       "      <td>638.098457</td>\n",
       "    </tr>\n",
       "    <tr>\n",
       "      <th>257</th>\n",
       "      <td>UI200083</td>\n",
       "      <td>MYBUI2000833</td>\n",
       "      <td>SCSB SENIOR CLASS A MTNS (SERIES 4)</td>\n",
       "      <td>2020-11-02</td>\n",
       "      <td>102.508600</td>\n",
       "      <td>51.254300</td>\n",
       "      <td>0.000201</td>\n",
       "      <td>0.000000</td>\n",
       "      <td>51.254501</td>\n",
       "      <td>0.231230</td>\n",
       "      <td>221.660191</td>\n",
       "    </tr>\n",
       "    <tr>\n",
       "      <th>940</th>\n",
       "      <td>VI200059</td>\n",
       "      <td>MYBVI2000591</td>\n",
       "      <td>COUNTRY GDN IMTN 5.250% 27.03.2025- Issue No 7</td>\n",
       "      <td>2020-11-02</td>\n",
       "      <td>107.105719</td>\n",
       "      <td>53.552860</td>\n",
       "      <td>0.000259</td>\n",
       "      <td>0.060009</td>\n",
       "      <td>53.613128</td>\n",
       "      <td>0.242552</td>\n",
       "      <td>221.037836</td>\n",
       "    </tr>\n",
       "    <tr>\n",
       "      <th>941</th>\n",
       "      <td>VK200019</td>\n",
       "      <td>MYBVK2000191</td>\n",
       "      <td>COUNTRY GDN IMTN 5.700% 02.03.2027 - Issue No 5</td>\n",
       "      <td>2020-11-02</td>\n",
       "      <td>110.923833</td>\n",
       "      <td>55.461917</td>\n",
       "      <td>0.000540</td>\n",
       "      <td>0.000000</td>\n",
       "      <td>55.462456</td>\n",
       "      <td>0.531685</td>\n",
       "      <td>104.314518</td>\n",
       "    </tr>\n",
       "  </tbody>\n",
       "</table>\n",
       "</div>"
      ],
      "text/plain": [
       "    STOCK CODE     ISIN CODE                                       STOCK NAME  \\\n",
       "100   UI200090  MYBUI2000908            CIMB MTN 1826D 03.4.2025 - Issue No 8   \n",
       "472   VE200066  MYBVE2000665         UEMS IMTN 3.70% 03.05.2021 - Issue No. 8   \n",
       "257   UI200083  MYBUI2000833              SCSB SENIOR CLASS A MTNS (SERIES 4)   \n",
       "940   VI200059  MYBVI2000591   COUNTRY GDN IMTN 5.250% 27.03.2025- Issue No 7   \n",
       "941   VK200019  MYBVK2000191  COUNTRY GDN IMTN 5.700% 02.03.2027 - Issue No 5   \n",
       "\n",
       "    VALUE DATE  NOV20 BOND PRICE  NOV20 YIELD INCOME  NOV20 ROLL DOWN RETURN  \\\n",
       "100 2020-11-02        103.129337           51.564668                0.000061   \n",
       "472 2020-11-02        100.196005           50.098002               -0.000070   \n",
       "257 2020-11-02        102.508600           51.254300                0.000201   \n",
       "940 2020-11-02        107.105719           53.552860                0.000259   \n",
       "941 2020-11-02        110.923833           55.461917                0.000540   \n",
       "\n",
       "     OCT20 EXPECTED CHG IN YIELD  NOV20 BOND RETURN  NOV20 BOND VOLATILITY  \\\n",
       "100                     0.000000          51.564730               0.071130   \n",
       "472                     0.006000          50.103933               0.078521   \n",
       "257                     0.000000          51.254501               0.231230   \n",
       "940                     0.060009          53.613128               0.242552   \n",
       "941                     0.000000          55.462456               0.531685   \n",
       "\n",
       "     NOV20 RETURN/VOLATILITY  \n",
       "100               724.934082  \n",
       "472               638.098457  \n",
       "257               221.660191  \n",
       "940               221.037836  \n",
       "941               104.314518  "
      ]
     },
     "execution_count": 33,
     "metadata": {},
     "output_type": "execute_result"
    }
   ],
   "source": [
    "nov_forecast.sort_values([\"NOV20 RETURN/VOLATILITY\"],ascending=False)[['STOCK CODE','ISIN CODE','STOCK NAME','VALUE DATE',\n",
    "                                                                       'NOV20 BOND PRICE', \n",
    "                                                                       'NOV20 YIELD INCOME', \n",
    "                                                                       'NOV20 ROLL DOWN RETURN',\n",
    "                                                                       'OCT20 EXPECTED CHG IN YIELD', \n",
    "                                                                       'NOV20 BOND RETURN',\n",
    "                                                                       'NOV20 BOND VOLATILITY',\n",
    "                                                                       'NOV20 RETURN/VOLATILITY']].head()"
   ]
  }
 ],
 "metadata": {
  "kernelspec": {
   "display_name": "Python 3",
   "language": "python",
   "name": "python3"
  },
  "language_info": {
   "codemirror_mode": {
    "name": "ipython",
    "version": 3
   },
   "file_extension": ".py",
   "mimetype": "text/x-python",
   "name": "python",
   "nbconvert_exporter": "python",
   "pygments_lexer": "ipython3",
   "version": "3.8.8"
  }
 },
 "nbformat": 4,
 "nbformat_minor": 5
}
